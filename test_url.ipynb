{
 "cells": [
  {
   "cell_type": "code",
   "execution_count": 1,
   "metadata": {},
   "outputs": [
    {
     "name": "stderr",
     "output_type": "stream",
     "text": [
      "c:\\Users\\ayoub.belouadah\\AppData\\Local\\Programs\\Python\\Python310\\lib\\site-packages\\tqdm\\auto.py:21: TqdmWarning: IProgress not found. Please update jupyter and ipywidgets. See https://ipywidgets.readthedocs.io/en/stable/user_install.html\n",
      "  from .autonotebook import tqdm as notebook_tqdm\n"
     ]
    },
    {
     "name": "stdout",
     "output_type": "stream",
     "text": [
      "Hello 12768 from Hyperband\n"
     ]
    }
   ],
   "source": [
    "import os\n",
    "os.environ['TF_CPP_MIN_LOG_LEVEL'] = '3'\n",
    "import torch\n",
    "import numpy as np\n",
    "import pandas as pd\n",
    "from hyperband import Hyperband\n",
    "from evaluators import TorchEvaluator\n",
    "from sampler import Sampler\n",
    "from utils.sr_calculators import TorchCalculator\n",
    "from sklearn.model_selection import train_test_split\n",
    "from constraints.constraints_executor import NumpyConstraintsExecutor\n",
    "from constraints.url_constraints import get_url_relation_constraints\n",
    "from constraints.relation_constraint import AndConstraint\n",
    "from ml_wrappers import wrap_model\n",
    "from utils.model import Net\n",
    "import timeit\n",
    "import joblib\n",
    "import pickle\n",
    "import warnings\n",
    "warnings.filterwarnings(action='ignore')"
   ]
  },
  {
   "cell_type": "code",
   "execution_count": 2,
   "metadata": {},
   "outputs": [],
   "source": [
    "scaler = preprocessing_pipeline = joblib.load('./ressources/baseline_scaler.joblib')\n",
    "x_clean = np.load('./ressources/baseline_X_test_candidates.npy')\n",
    "y_clean = np.load('./ressources/baseline_y_test_candidates.npy')\n",
    "x_clean = scaler.transform(x_clean)\n",
    "metadata = pd.read_csv('./ressources/url_metadata.csv')\n",
    "min_constraints = metadata['min'].to_list()[:63]\n",
    "max_constraints = metadata['max'].to_list()[:63]\n",
    "features_min_max = (min_constraints, max_constraints)\n",
    "\n",
    "constraints = get_url_relation_constraints()\n",
    "executor = NumpyConstraintsExecutor(AndConstraint(constraints))\n",
    "\n",
    "model = Net()\n",
    "model = torch.load('./ressources/model_url.pth')\n",
    "model = wrap_model(model, x_clean, model_task='classification')\n",
    "\n",
    "    # Parameters for Hyperband\n",
    "dimensions = x_clean.shape[1]\n",
    "BATCH_SIZE = 1#x_clean.shape[0]\n",
    "eps = 0.2\n",
    "downsample = 2\n",
    "sampler = Sampler()\n",
    "distance = 2\n",
    "classifier_path = './ressources/model_url.h5'\n",
    "seed = 202374\n",
    "success_rates_l2 = []\n",
    "exec_times_l2 = []\n",
    "\n",
    "R_values = [390]\n",
    "history_dict = dict()"
   ]
  },
  {
   "cell_type": "code",
   "execution_count": 3,
   "metadata": {},
   "outputs": [
    {
     "name": "stdout",
     "output_type": "stream",
     "text": [
      "Hyperband brackets 9\n",
      "Exec time 0.793\n",
      "success rate 0.0, len best_candidates 1, len adversarials 0\n"
     ]
    }
   ],
   "source": [
    "for R in R_values:\n",
    "        url_evaluator = TorchEvaluator(constraints=constraints, scaler=scaler, alpha=1.0, beta=1.0)\n",
    "        scores, configs, candidates = [], [], []\n",
    "        start = timeit.default_timer()\n",
    "        \n",
    "        hp = Hyperband(objective=url_evaluator, classifier=model, x=x_clean[:BATCH_SIZE], y=y_clean[:BATCH_SIZE], sampler=sampler, eps=eps, dimensions=dimensions, max_configuration_size=dimensions-1, R=R, downsample=downsample, distance=distance, seed=seed)\n",
    "        scores, configs, candidates, history = hp.generate(mutables=None, features_min_max=(0,1))\n",
    "\n",
    "        end = timeit.default_timer()\n",
    "        print(f'Exec time {round((end - start) / 60, 3)}')\n",
    "        success_rate_calculator = TorchCalculator(classifier=model, data=x_clean[:BATCH_SIZE], labels=y_clean[:BATCH_SIZE], scores=np.array(scores), candidates=candidates)\n",
    "        success_rate, best_candidates, adversarials = success_rate_calculator.evaluate()\n",
    "        print(f'success rate {success_rate}, len best_candidates {len(best_candidates)}, len adversarials {len(adversarials)}')\n",
    "        #adversarials, best_candidates = scaler.inverse_transform(np.array(adversarials)), scaler.inverse_transform(np.array(best_candidates))\n",
    "        #print(f'\\n Execution Time {round((end - start) / 60, 3)}\\n')\n",
    "        #print(f'Success rate over {BATCH_SIZE} examples (M) : {success_rate * 100}')\n",
    "        #print(f'len adversarials {len(adversarials)}')\n",
    "        #violations = np.array([executor.execute(adv[np.newaxis, :])[0] for adv in adversarials])\n",
    "        #violations_candidates = np.array([executor.execute(adv[np.newaxis, :])[0] for adv in best_candidates])\n",
    "        #tolerance = 0.0001\n",
    "        #satisfaction = (violations < tolerance).astype('int').sum()\n",
    "        #satisfaction_candidates = (violations_candidates < tolerance).astype('int').sum()\n",
    "        #print(f'Constraints satisfaction (C&M) {(success_rate * 100) - satisfaction}')\n",
    "        #history_dict[R] = {'M': round(success_rate * 100, 2), 'C&M': round((satisfaction * 100) / BATCH_SIZE, 2), 'C': round((satisfaction_candidates * 100) / len(best_candidates), 2), 'Execution time': round((end - start) / 60, 3)}"
   ]
  },
  {
   "cell_type": "code",
   "execution_count": 4,
   "metadata": {},
   "outputs": [
    {
     "name": "stdout",
     "output_type": "stream",
     "text": [
      "0.276\n"
     ]
    }
   ],
   "source": [
    "for i, k in enumerate(history[0]):\n",
    "    if i == 16:\n",
    "        print(round(min(history[0][k]), 3))"
   ]
  },
  {
   "cell_type": "code",
   "execution_count": 5,
   "metadata": {},
   "outputs": [
    {
     "data": {
      "text/plain": [
       "[[0.546,\n",
       "  0.546,\n",
       "  0.546,\n",
       "  0.546,\n",
       "  0.546,\n",
       "  0.546,\n",
       "  0.97,\n",
       "  0.958,\n",
       "  0.976,\n",
       "  0.954,\n",
       "  0.975,\n",
       "  0.979,\n",
       "  0.988]]"
      ]
     },
     "execution_count": 5,
     "metadata": {},
     "output_type": "execute_result"
    }
   ],
   "source": [
    "scores"
   ]
  },
  {
   "cell_type": "code",
   "execution_count": 7,
   "metadata": {},
   "outputs": [],
   "source": [
    "import matplotlib.pyplot as plt\n"
   ]
  },
  {
   "cell_type": "code",
   "execution_count": 13,
   "metadata": {},
   "outputs": [
    {
     "name": "stdout",
     "output_type": "stream",
     "text": [
      "121\n",
      "(4, 39)\n",
      "[0.5653643012046814, 0.6082510352134705, 0.8102559447288513, 0.7860321998596191, 0.7821486592292786, 0.7276909947395325, 0.5744267702102661, 0.6919456720352173, 0.8627212643623352, 0.7936331033706665, 0.6096835732460022, 0.7970449328422546, 0.7209566831588745, 0.9166764616966248, 0.8262199759483337, 0.7751749157905579, 0.7333185076713562, 0.8371567130088806, 0.6961900591850281, 0.8110783100128174, 0.6835347414016724, 0.8952347040176392, 0.8180554509162903, 0.7022445797920227, 0.7655426263809204, 0.8337991237640381, 0.8850825428962708, 0.6747527718544006, 0.8865429759025574, 0.8633890151977539, 0.7974134683609009, 0.6633962392807007, 0.812260627746582, 0.6366716027259827, 0.6220076084136963, 0.5646605491638184, 0.7417821288108826, 0.6945077776908875, 0.8947479128837585, 0.8200072050094604, 0.758490800857544, 0.7312555313110352, 0.6451418995857239, 0.6973578333854675, 0.615216851234436, 0.7637564539909363, 0.87288898229599, 0.7238724231719971, 0.7510290145874023, 0.5932314395904541, 0.7843161821365356, 0.8230465650558472, 0.9144721031188965, 0.9238651990890503, 0.7248901724815369, 0.739186704158783, 0.8690435290336609, 0.8727352619171143, 0.6856062412261963, 0.6981247067451477, 0.5926114320755005, 0.7018877863883972, 0.7026899456977844, 0.8253124952316284, 0.6156903505325317, 0.6464926600456238, 0.5922329425811768, 0.6429722309112549, 0.6311798691749573, 0.7809365391731262, 0.6807423830032349, 0.604152262210846, 0.64265376329422, 0.6228004693984985, 0.566093921661377, 0.558689296245575, 0.5890697836875916, 0.8238089680671692, 0.8624399304389954, 0.7914476990699768, 0.6274772882461548, 0.7542493343353271, 0.8325356841087341, 0.7623633146286011, 0.626347005367279, 0.7627765536308289, 0.905166506767273, 0.8782362341880798, 0.9461880326271057, 0.9449505805969238, 0.9416019916534424, 0.6593316793441772, 0.7261773943901062, 0.7347686886787415, 0.6722692251205444, 0.5632487535476685, 0.6611875295639038, 0.6464495062828064, 0.5547981262207031, 0.6237146854400635, 0.6754655838012695, 0.5702144503593445, 0.610305905342102, 0.7321632504463196, 0.7933236956596375, 0.9182300567626953, 0.724444568157196, 0.5905289053916931, 0.7158992886543274, 0.7865846157073975, 0.7340251207351685, 0.6991977095603943, 0.7989845275878906, 0.6199284791946411, 0.6612727642059326, 0.6028469204902649, 0.7844289541244507, 0.8443052172660828, 0.6167503595352173, 0.7535339593887329, 0.5747430920600891]\n"
     ]
    }
   ],
   "source": [
    "histories = history[0]\n",
    "max_length = 0\n",
    "c = None\n",
    "for k in histories:\n",
    "    if len(histories[k]) > max_length:\n",
    "        max_length = len(histories[k])\n",
    "        c = k\n",
    "print(max_length)\n",
    "print(c)\n",
    "print(histories[c])"
   ]
  },
  {
   "cell_type": "code",
   "execution_count": 14,
   "metadata": {},
   "outputs": [
    {
     "data": {
      "image/png": "[encoded data removed]",
      "text/plain": [
       "<Figure size 640x480 with 1 Axes>"
      ]
     },
     "metadata": {},
     "output_type": "display_data"
    }
   ],
   "source": [
    "for k in histories:\n",
    "    plt.plot(list(range(len(histories[k]))), histories[k])"
   ]
  },
  {
   "cell_type": "code",
   "execution_count": 15,
   "metadata": {},
   "outputs": [
    {
     "data": {
      "text/plain": [
       "[[0.555, 0.557, 0.979, 0.975, 0.981]]"
      ]
     },
     "execution_count": 15,
     "metadata": {},
     "output_type": "execute_result"
    }
   ],
   "source": [
    "scores"
   ]
  },
  {
   "cell_type": "code",
   "execution_count": 16,
   "metadata": {},
   "outputs": [
    {
     "data": {
      "text/plain": [
       "0.5547981262207031"
      ]
     },
     "execution_count": 16,
     "metadata": {},
     "output_type": "execute_result"
    }
   ],
   "source": [
    "min(histories[c])"
   ]
  },
  {
   "cell_type": "code",
   "execution_count": 17,
   "metadata": {},
   "outputs": [],
   "source": [
    "mins = []\n",
    "for k in histories:\n",
    "    mins.append(min(histories[k]))"
   ]
  },
  {
   "cell_type": "code",
   "execution_count": 18,
   "metadata": {},
   "outputs": [
    {
     "data": {
      "text/plain": [
       "0.5547981262207031"
      ]
     },
     "execution_count": 18,
     "metadata": {},
     "output_type": "execute_result"
    }
   ],
   "source": [
    "min(mins)"
   ]
  },
  {
   "cell_type": "code",
   "execution_count": 5,
   "metadata": {},
   "outputs": [
    {
     "data": {
      "text/plain": [
       "0.20000000000000004"
      ]
     },
     "execution_count": 5,
     "metadata": {},
     "output_type": "execute_result"
    }
   ],
   "source": [
    "np.linalg.norm(x_clean[0] - best_candidates[0])"
   ]
  },
  {
   "cell_type": "code",
   "execution_count": null,
   "metadata": {},
   "outputs": [],
   "source": []
  }
 ],
 "metadata": {
  "kernelspec": {
   "display_name": "Python 3",
   "language": "python",
   "name": "python3"
  },
  "language_info": {
   "codemirror_mode": {
    "name": "ipython",
    "version": 3
   },
   "file_extension": ".py",
   "mimetype": "text/x-python",
   "name": "python",
   "nbconvert_exporter": "python",
   "pygments_lexer": "ipython3",
   "version": "3.10.10"
  },
  "orig_nbformat": 4
 },
 "nbformat": 4,
 "nbformat_minor": 2
}
